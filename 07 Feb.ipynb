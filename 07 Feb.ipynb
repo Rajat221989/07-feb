{
 "cells": [
  {
   "cell_type": "markdown",
   "id": "9d8054ca-ece0-467a-8749-f8dba524448d",
   "metadata": {},
   "source": [
    "Q1. You are writing code for a company. The requirement of the company is that you create a python\n",
    "function that will check whether the password entered by the user is correct or not. The function should\n",
    "take the password as input and return the string “Valid Password” if the entered password follows the\n",
    "below-given password guidelines else it should return “Invalid Password”.\n",
    "Note: 1. The Password should contain at least two uppercase letters and at least two lowercase letters.\n",
    "2. The Password should contain at least a number and three special characters.\n",
    "3. The length of the password should be 10 characters long."
   ]
  },
  {
   "cell_type": "code",
   "execution_count": 1,
   "id": "ee046daa-7a9c-4ee6-bc52-515f85fa4f51",
   "metadata": {},
   "outputs": [
    {
     "name": "stdin",
     "output_type": "stream",
     "text": [
      "Enter the password RaJa@#$123\n"
     ]
    },
    {
     "name": "stdout",
     "output_type": "stream",
     "text": [
      "Valid Password\n"
     ]
    }
   ],
   "source": [
    "s=input(\"Enter the password\")\n",
    "alp=0\n",
    "upp=0\n",
    "low=0\n",
    "dig=0\n",
    "spl=0\n",
    "for i in s:\n",
    "    if i.isalpha():\n",
    "        alp= alp+1\n",
    "    elif i.isdigit():\n",
    "        dig=dig+1\n",
    "    else:\n",
    "        spl=spl+1\n",
    "        \n",
    "for j in s:\n",
    "    if j.isupper():\n",
    "        upp=upp+1\n",
    "    elif j.islower():\n",
    "        low=low+1\n",
    "        \n",
    "if len(s)==10 and dig>=1 and spl==3 and  upp>=2 and low>=2:\n",
    "    print(\"Valid Password\")\n",
    "else:\n",
    "     print(\"Invalid Password\")"
   ]
  },
  {
   "cell_type": "markdown",
   "id": "9adf0bda-5b84-413b-8bea-b7abb115ea21",
   "metadata": {},
   "source": [
    "Q2. Solve the below-given questions using at least one of the following:\n",
    "1. Lambda functioJ\n",
    "2. Filter functioJ\n",
    "3. Zap functioJ\n",
    "4. List ComprehensioI\n",
    "B Check if the string starts with a particular letterY\n",
    "B Check if the string is numericY\n",
    "B Sort a list of tuples having fruit names and their quantity. [(\"mango\",99),(\"orange\",80), (\"grapes\", 1000)-\n",
    "B Find the squares of numbers from 1 to 10Y\n",
    "B Find the cube root of numbers from 1 to 10Y\n",
    "B Check if a given number is evenY\n",
    "B Filter odd numbers from the given list.\n",
    "[1,2,3,4,5,6,7,8,9,10-\n",
    "B Sort a list of integers into positive and negative integers lists.\n",
    "[1,2,3,4,5,6,-1,-2,-3,-4,-5,0]"
   ]
  },
  {
   "cell_type": "markdown",
   "id": "9c0cdcd6-b876-4895-aacd-b2cbfe967628",
   "metadata": {},
   "source": [
    "> Sort a list of integers into positive and negative integers lists.\n",
    "[1,2,3,4,5,6,-1,-2,-3,-4,-5,0]"
   ]
  },
  {
   "cell_type": "code",
   "execution_count": 1,
   "id": "b045da2a-d5d0-4890-bb42-a776e7471f52",
   "metadata": {},
   "outputs": [],
   "source": [
    "L=[1,2,3,4,5,6,-1,-2,-3,-4,-5,0]"
   ]
  },
  {
   "cell_type": "code",
   "execution_count": 5,
   "id": "85654895-7a87-4583-a635-1d1b0682a68e",
   "metadata": {},
   "outputs": [
    {
     "data": {
      "text/plain": [
       "[-1, -2, -3, -4, -5]"
      ]
     },
     "execution_count": 5,
     "metadata": {},
     "output_type": "execute_result"
    }
   ],
   "source": [
    "list(filter(lambda x:x<0,L))"
   ]
  },
  {
   "cell_type": "code",
   "execution_count": 7,
   "id": "db80eef7-6137-4c15-86d6-51bb7f0ea249",
   "metadata": {},
   "outputs": [
    {
     "data": {
      "text/plain": [
       "[1, 2, 3, 4, 5, 6, 0]"
      ]
     },
     "execution_count": 7,
     "metadata": {},
     "output_type": "execute_result"
    }
   ],
   "source": [
    "list(filter(lambda x:x>=0,L))"
   ]
  },
  {
   "cell_type": "markdown",
   "id": "68d1206c-13e7-4bbf-9153-9109935241ec",
   "metadata": {},
   "source": [
    "> Filter odd numbers from the given list.\n",
    "[1,2,3,4,5,6,7,8,9,10]"
   ]
  },
  {
   "cell_type": "code",
   "execution_count": 8,
   "id": "23b59342-597f-47b5-a760-a1c172b51604",
   "metadata": {},
   "outputs": [],
   "source": [
    "l=[1,2,3,4,5,6,7,8,9,10]"
   ]
  },
  {
   "cell_type": "code",
   "execution_count": 10,
   "id": "02607e3c-aff4-471d-b0a6-ea092d93130e",
   "metadata": {},
   "outputs": [
    {
     "data": {
      "text/plain": [
       "[2, 4, 6, 8, 10]"
      ]
     },
     "execution_count": 10,
     "metadata": {},
     "output_type": "execute_result"
    }
   ],
   "source": [
    "list(filter(lambda x:x%2==0,l))"
   ]
  },
  {
   "cell_type": "markdown",
   "id": "696a4a39-bcca-49ff-a100-f9802c0d740a",
   "metadata": {},
   "source": [
    "> Find the squares of numbers from 1 to 10."
   ]
  },
  {
   "cell_type": "code",
   "execution_count": 4,
   "id": "d590ebc5-f7ea-4203-8029-d015f209b5e1",
   "metadata": {},
   "outputs": [
    {
     "data": {
      "text/plain": [
       "[1, 4, 9, 16, 25, 36, 49, 64, 81, 100]"
      ]
     },
     "execution_count": 4,
     "metadata": {},
     "output_type": "execute_result"
    }
   ],
   "source": [
    "list(map(lambda x:x**2,range(1,11,1)))"
   ]
  },
  {
   "cell_type": "markdown",
   "id": "72c5148a-5e0f-46a0-986b-d7a6092b001b",
   "metadata": {},
   "source": [
    "> Find the cube root of numbers from 1 to 10.\n"
   ]
  },
  {
   "cell_type": "code",
   "execution_count": 6,
   "id": "b21a19cb-5131-4cdf-8c07-a5e5ce8ae6d0",
   "metadata": {},
   "outputs": [
    {
     "data": {
      "text/plain": [
       "[0.3333333333333333,\n",
       " 0.6666666666666666,\n",
       " 1.0,\n",
       " 1.3333333333333333,\n",
       " 1.6666666666666667,\n",
       " 2.0,\n",
       " 2.3333333333333335,\n",
       " 2.6666666666666665,\n",
       " 3.0,\n",
       " 3.3333333333333335]"
      ]
     },
     "execution_count": 6,
     "metadata": {},
     "output_type": "execute_result"
    }
   ],
   "source": [
    "list(map(lambda x:x**1/3,range(1,11,1)))"
   ]
  },
  {
   "cell_type": "code",
   "execution_count": 7,
   "id": "f3f46008-25ce-4ff7-b3b5-1e70f9160ffb",
   "metadata": {},
   "outputs": [],
   "source": [
    "l1=[(\"mango\",99),(\"orange\",80), (\"grapes\", 1000)]"
   ]
  },
  {
   "cell_type": "code",
   "execution_count": 10,
   "id": "83f05a16-eacc-4acf-82a3-d67823913c0e",
   "metadata": {},
   "outputs": [
    {
     "name": "stdout",
     "output_type": "stream",
     "text": [
      "[('orange', 80), ('mango', 99), ('grapes', 1000)]\n"
     ]
    }
   ],
   "source": [
    "new_list=sorted(l1,key=lambda x:x[1],reverse=False)\n",
    "print(new_list)"
   ]
  },
  {
   "cell_type": "markdown",
   "id": "24e12970-4aa5-4a65-b456-769e9fa07478",
   "metadata": {},
   "source": [
    "> Check if the string is numeric"
   ]
  },
  {
   "cell_type": "code",
   "execution_count": 13,
   "id": "5fef3944-83dd-4b24-b291-eb2fd6553e12",
   "metadata": {},
   "outputs": [
    {
     "name": "stdin",
     "output_type": "stream",
     "text": [
      "Enter the string a123\n"
     ]
    },
    {
     "name": "stdout",
     "output_type": "stream",
     "text": [
      "False\n"
     ]
    }
   ],
   "source": [
    "s=input(str(\"Enter the string\"))\n",
    "print(s.isdigit())"
   ]
  },
  {
   "cell_type": "markdown",
   "id": "bdd5b678-9ec9-461d-86aa-ab80e3b9de47",
   "metadata": {},
   "source": [
    "> Check if the string starts with a particular letter."
   ]
  },
  {
   "cell_type": "code",
   "execution_count": 17,
   "id": "e9c03adf-5cf9-422f-a1b4-5aacb682aeba",
   "metadata": {},
   "outputs": [
    {
     "name": "stdin",
     "output_type": "stream",
     "text": [
      "Enter the string Rajat\n"
     ]
    },
    {
     "name": "stdout",
     "output_type": "stream",
     "text": [
      "False\n"
     ]
    }
   ],
   "source": [
    "S2=input(str(\"Enter the string\"))\n",
    "print(S2.startswith(\"P\"))"
   ]
  },
  {
   "cell_type": "markdown",
   "id": "34f32c9f-aad4-40dd-80e6-814c17b81b07",
   "metadata": {},
   "source": [
    ">Check if a given number is even."
   ]
  },
  {
   "cell_type": "code",
   "execution_count": 23,
   "id": "b728aa13-bf0c-465a-8ebe-c812f310139a",
   "metadata": {},
   "outputs": [
    {
     "name": "stdin",
     "output_type": "stream",
     "text": [
      " 21\n"
     ]
    },
    {
     "name": "stdout",
     "output_type": "stream",
     "text": [
      "Odd number\n"
     ]
    }
   ],
   "source": [
    "num=int(input())\n",
    "odd_even=lambda num:\"Even number\" if(num%2==0) else \"Odd number\"\n",
    "print(odd_even(num))"
   ]
  },
  {
   "cell_type": "code",
   "execution_count": null,
   "id": "d6393202-bc3f-4290-9bef-de3a24c7c307",
   "metadata": {},
   "outputs": [],
   "source": []
  }
 ],
 "metadata": {
  "kernelspec": {
   "display_name": "Python 3 (ipykernel)",
   "language": "python",
   "name": "python3"
  },
  "language_info": {
   "codemirror_mode": {
    "name": "ipython",
    "version": 3
   },
   "file_extension": ".py",
   "mimetype": "text/x-python",
   "name": "python",
   "nbconvert_exporter": "python",
   "pygments_lexer": "ipython3",
   "version": "3.10.8"
  }
 },
 "nbformat": 4,
 "nbformat_minor": 5
}
